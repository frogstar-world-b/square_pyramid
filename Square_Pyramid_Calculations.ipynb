{
 "cells": [
  {
   "cell_type": "code",
   "execution_count": 1,
   "metadata": {
    "collapsed": false
   },
   "outputs": [
    {
     "name": "stdout",
     "output_type": "stream",
     "text": [
      "Sun Jul  2 21:27:05 PDT 2017\r\n"
     ]
    }
   ],
   "source": [
    "!date"
   ]
  },
  {
   "cell_type": "markdown",
   "metadata": {},
   "source": [
    "## Calculations for the Square Pyramid\n",
    "by Marian Farah \n",
    "\n",
    "In this notebook, we calculate the values of $s$, $a$, $\\theta$, and $h$ in a square pyramid. The source for the figure below is \n",
    "http://formulas.tutorvista.com/math/volume-of-a-square-pyramid-formula.html\n",
    "\n",
    "<img src=\"square_base_pyramid.png\">\n",
    "\n",
    "<b> Calculating $\\boldsymbol{s}$</b> <br>\n",
    "Consider a side (isosceles) triangle with edges $(c, c, b)$. <br>\n",
    "Notice that $s$ is the height of this triangle. <br>\n",
    "Apply the Pythagorean Theorem to the triangle with edges $(c, \\frac{b}{2}, s)$: <br>\n",
    "$c^2 = \\left(\\frac{b}{2}\\right)^2 + s^2$. Thus $s = \\sqrt{(c^2 - \\frac{b^2}{4})}$.\n",
    "\n",
    "<b> Calculating $\\boldsymbol{a}$</b> <br>\n",
    "Consider the base (isosceles) triangle with each edges $(b, b, a)$. <br>\n",
    "Apply the Pythagorean Theorem to this triangle:<br> \n",
    "$a^2 = b^2 + b^2$. Thus $a = \\sqrt{2b^2 }$.\n",
    "\n",
    "<b> Calculating $\\boldsymbol{\\theta}$</b> <br>\n",
    "Consider the inner (isosceles) triangle with edges $(c, c, a)$. <br>\n",
    "To calculate the value of $\\theta$, the angle between edges $c$ and $a$, we use the Law of Cosines: <br>\n",
    "$c^2 = c^2 + a^2 - 2ca\\,Cos(\\theta)$ <br><br>\n",
    "Solving for $\\theta$ we get, \n",
    "$Cos(\\theta) = \\frac{a}{2c}$. Thus, $\\theta = arcCos \\left(\\frac{a}{2c}\\right)$, which will be in radians. <br><br>\n",
    "The formula convert to degrees is  $\\frac{180}{\\pi} \\theta$\n",
    "\n",
    "<b> Calculating $\\boldsymbol{h}$</b> <br>\n",
    "Consider the inner triangle with edges $(c, \\frac{a}{2}, h)$. <br>\n",
    "Apply the Pythagorean Theorem to this triangle:<br> \n",
    "$c^2 = h^2 + \\left(\\frac{a}{2}\\right)^2$. Thus $a = \\sqrt{c^2 - \\frac{a^2}{4} }$."
   ]
  },
  {
   "cell_type": "code",
   "execution_count": 2,
   "metadata": {
    "collapsed": false
   },
   "outputs": [],
   "source": [
    "import numpy as np\n",
    "from numpy.testing import assert_almost_equal"
   ]
  },
  {
   "cell_type": "code",
   "execution_count": 3,
   "metadata": {
    "collapsed": true
   },
   "outputs": [],
   "source": [
    "def get_s(b, c):\n",
    "    s = np.sqrt(c**2 - b**2/4.)\n",
    "    return s\n",
    "\n",
    "def get_a(b):\n",
    "    a = np.sqrt(2 * b**2)\n",
    "    return a\n",
    "\n",
    "def radian_to_degree(theta_radian):\n",
    "    theta_degree = (theta_radian * 180.)/np.pi\n",
    "    return theta_degree\n",
    "\n",
    "def get_theta(a, c):\n",
    "    theta_radian = np.arccos(a/(2*c))\n",
    "    theta_degree = radian_to_degree(theta_radian)\n",
    "    return theta_degree\n",
    "\n",
    "def get_h(a, c):\n",
    "    h = np.sqrt(c**2 - a**2/4.)\n",
    "    return h"
   ]
  },
  {
   "cell_type": "code",
   "execution_count": 4,
   "metadata": {
    "collapsed": true
   },
   "outputs": [],
   "source": [
    "# The following values for b and c were provided by Kevin Byall\n",
    "b = 183.25\n",
    "c = 184.25"
   ]
  },
  {
   "cell_type": "code",
   "execution_count": 5,
   "metadata": {
    "collapsed": false
   },
   "outputs": [],
   "source": [
    "# calculate quantities of interst \n",
    "s = get_s(b, c)\n",
    "a = get_a(b)\n",
    "theta = get_theta(a, c)\n",
    "h = get_h(a, c)"
   ]
  },
  {
   "cell_type": "code",
   "execution_count": 6,
   "metadata": {
    "collapsed": false
   },
   "outputs": [
    {
     "name": "stdout",
     "output_type": "stream",
     "text": [
      "s =  159.852813159\n",
      "a =  259.154635305\n",
      "theta =  45.3101297791\n",
      "h =  130.987714119\n"
     ]
    }
   ],
   "source": [
    "print('s = ', s)\n",
    "print('a = ', a)\n",
    "print('theta = ', theta)\n",
    "print('h = ', h)"
   ]
  },
  {
   "cell_type": "code",
   "execution_count": 7,
   "metadata": {
    "collapsed": false
   },
   "outputs": [],
   "source": [
    "# test get_s() on the equilateral triangle where all edges = 2.\n",
    "# Thus, b = c = 2\n",
    "assert_almost_equal(get_s(c=2, b=2), np.sqrt(3))"
   ]
  },
  {
   "cell_type": "code",
   "execution_count": 8,
   "metadata": {
    "collapsed": false
   },
   "outputs": [],
   "source": [
    "# test get_a() on the right isosceles triangle\n",
    "# equal sides are each  b = 1\n",
    "# hypotenuse, a = np.sqrt(2)\n",
    "assert_almost_equal(get_a(b=1), np.sqrt(2))"
   ]
  },
  {
   "cell_type": "code",
   "execution_count": 9,
   "metadata": {
    "collapsed": false
   },
   "outputs": [],
   "source": [
    "# test radian to degree on pi, pi/2, and 0 radians\n",
    "assert_almost_equal(radian_to_degree(np.pi), 180.0)\n",
    "assert_almost_equal(radian_to_degree(np.pi/2.), 90.0)\n",
    "assert_almost_equal(radian_to_degree(0), 0)"
   ]
  },
  {
   "cell_type": "code",
   "execution_count": 10,
   "metadata": {
    "collapsed": false
   },
   "outputs": [],
   "source": [
    "# test get_theta() on the equilateral triangle where all edges = 2. Thus,\n",
    "# adjacent, a = c = 2\n",
    "# The angle between a and c is theta = 60 degrees\n",
    "assert_almost_equal(get_theta(a=2, c=2), 60.0)"
   ]
  },
  {
   "cell_type": "code",
   "execution_count": 11,
   "metadata": {
    "collapsed": true
   },
   "outputs": [],
   "source": [
    "# test get_h() on equalateral triangle with sides equal to 2 each\n",
    "# h = np.sqrt(3)\n",
    "assert_almost_equal(get_h(a=2, c=2), np.sqrt(3))"
   ]
  },
  {
   "cell_type": "code",
   "execution_count": 12,
   "metadata": {
    "collapsed": false
   },
   "outputs": [],
   "source": [
    "# final sanity check for calculating the height of a triangular pyramid\n",
    "# wolfram has two useful formulas to calculate the height\n",
    "# see http://mathworld.wolfram.com/SquarePyramid.html\n",
    "# They use different notation: e is our c, h is our h, a is our b, s is our s.\n",
    "# Thus, in our notation c = np.sqrt(h**2 + b**2/2)\n",
    "# We derive h to be np.sqrt(c**2 - b**2/2)\n",
    "assert_almost_equal(np.sqrt(c**2 - b**2/2.), h)"
   ]
  }
 ],
 "metadata": {
  "anaconda-cloud": {},
  "kernelspec": {
   "display_name": "Python [Root]",
   "language": "python",
   "name": "Python [Root]"
  },
  "language_info": {
   "codemirror_mode": {
    "name": "ipython",
    "version": 3
   },
   "file_extension": ".py",
   "mimetype": "text/x-python",
   "name": "python",
   "nbconvert_exporter": "python",
   "pygments_lexer": "ipython3",
   "version": "3.5.2"
  }
 },
 "nbformat": 4,
 "nbformat_minor": 0
}
